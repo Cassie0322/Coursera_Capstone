{
 "cells": [
  {
   "cell_type": "markdown",
   "metadata": {},
   "source": [
    "## Introduction"
   ]
  },
  {
   "cell_type": "markdown",
   "metadata": {},
   "source": [
    "\n",
    "Philadelphia is one of the most oldest cities in the United States. It locates on the east coast. However, its housing price is not as high as other major cities such as New York, Boston, and Washington DC. Also, not only is the Philadelphia real estate market affordable, but it offers advantageous entry point to the market. That's because it's one of the few most populous cities that has an affordable investment property price. Therefore, it always attracts real estate investors attention. In this project, I am trying to use venues data to analyze Philadelphia’s housing market.\n"
   ]
  },
  {
   "cell_type": "markdown",
   "metadata": {},
   "source": [
    "## Data"
   ]
  },
  {
   "cell_type": "markdown",
   "metadata": {},
   "source": [
    "1. The list of neighborhood in Philadelphia from Wiki. \n",
    "2. Foursquare API to get the most common venues of given Neighborhood in Philadelphia. \n",
    "3. The average housing price per square foot of each neighborhood."
   ]
  },
  {
   "cell_type": "code",
   "execution_count": null,
   "metadata": {},
   "outputs": [],
   "source": []
  }
 ],
 "metadata": {
  "kernelspec": {
   "display_name": "Python 3",
   "language": "python",
   "name": "python3"
  },
  "language_info": {
   "codemirror_mode": {
    "name": "ipython",
    "version": 3
   },
   "file_extension": ".py",
   "mimetype": "text/x-python",
   "name": "python",
   "nbconvert_exporter": "python",
   "pygments_lexer": "ipython3",
   "version": "3.6.5"
  }
 },
 "nbformat": 4,
 "nbformat_minor": 2
}
